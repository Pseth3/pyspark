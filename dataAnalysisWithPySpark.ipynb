{
  "nbformat": 4,
  "nbformat_minor": 0,
  "metadata": {
    "colab": {
      "provenance": []
    },
    "kernelspec": {
      "name": "python3",
      "display_name": "Python 3"
    },
    "language_info": {
      "name": "python"
    }
  },
  "cells": [
    {
      "cell_type": "code",
      "execution_count": 2,
      "metadata": {
        "colab": {
          "base_uri": "https://localhost:8080/"
        },
        "id": "5sxbLdHmMdg8",
        "outputId": "ad15487d-c119-440f-aeba-5c3a0d40ee65"
      },
      "outputs": [
        {
          "output_type": "stream",
          "name": "stdout",
          "text": [
            "Mounted at /content/drive\n"
          ]
        }
      ],
      "source": [
        "from google.colab import drive\n",
        "drive.mount('/content/drive')"
      ]
    },
    {
      "cell_type": "code",
      "source": [
        "! pip install pyspark"
      ],
      "metadata": {
        "colab": {
          "base_uri": "https://localhost:8080/"
        },
        "id": "20jGF3aHMnSY",
        "outputId": "0569658f-4c76-450d-ab17-1aa035540d23"
      },
      "execution_count": 3,
      "outputs": [
        {
          "output_type": "stream",
          "name": "stdout",
          "text": [
            "Collecting pyspark\n",
            "  Downloading pyspark-3.5.1.tar.gz (317.0 MB)\n",
            "\u001b[2K     \u001b[90m━━━━━━━━━━━━━━━━━━━━━━━━━━━━━━━━━━━━━━━━\u001b[0m \u001b[32m317.0/317.0 MB\u001b[0m \u001b[31m3.2 MB/s\u001b[0m eta \u001b[36m0:00:00\u001b[0m\n",
            "\u001b[?25h  Preparing metadata (setup.py) ... \u001b[?25l\u001b[?25hdone\n",
            "Requirement already satisfied: py4j==0.10.9.7 in /usr/local/lib/python3.10/dist-packages (from pyspark) (0.10.9.7)\n",
            "Building wheels for collected packages: pyspark\n",
            "  Building wheel for pyspark (setup.py) ... \u001b[?25l\u001b[?25hdone\n",
            "  Created wheel for pyspark: filename=pyspark-3.5.1-py2.py3-none-any.whl size=317488491 sha256=a7ef10d02bf0b6107676ca0b7efe97e25e89b38996c2a3297a2dd75dfbe2b5af\n",
            "  Stored in directory: /root/.cache/pip/wheels/80/1d/60/2c256ed38dddce2fdd93be545214a63e02fbd8d74fb0b7f3a6\n",
            "Successfully built pyspark\n",
            "Installing collected packages: pyspark\n",
            "Successfully installed pyspark-3.5.1\n"
          ]
        }
      ]
    },
    {
      "cell_type": "code",
      "source": [
        "from pyspark.sql import SparkSession\n",
        "from pyspark.sql.types import StructType, StructField, StringType, IntegerType, FloatType\n",
        "from pyspark.sql.functions import *"
      ],
      "metadata": {
        "id": "2-32-6O8NI3R"
      },
      "execution_count": 36,
      "outputs": []
    },
    {
      "cell_type": "code",
      "source": [
        "spark = SparkSession.builder.appName(name=\"testApp\").getOrCreate()"
      ],
      "metadata": {
        "id": "dVbYYxxKNYuA"
      },
      "execution_count": 8,
      "outputs": []
    },
    {
      "cell_type": "code",
      "source": [
        "spark"
      ],
      "metadata": {
        "colab": {
          "base_uri": "https://localhost:8080/",
          "height": 221
        },
        "id": "it8p4f6TNjqj",
        "outputId": "9c7d9829-adca-4ca8-c7f9-78ae0cdae0bc"
      },
      "execution_count": 9,
      "outputs": [
        {
          "output_type": "execute_result",
          "data": {
            "text/plain": [
              "<pyspark.sql.session.SparkSession at 0x7a580ab11360>"
            ],
            "text/html": [
              "\n",
              "            <div>\n",
              "                <p><b>SparkSession - in-memory</b></p>\n",
              "                \n",
              "        <div>\n",
              "            <p><b>SparkContext</b></p>\n",
              "\n",
              "            <p><a href=\"http://c7bfe7be8374:4040\">Spark UI</a></p>\n",
              "\n",
              "            <dl>\n",
              "              <dt>Version</dt>\n",
              "                <dd><code>v3.5.1</code></dd>\n",
              "              <dt>Master</dt>\n",
              "                <dd><code>local[*]</code></dd>\n",
              "              <dt>AppName</dt>\n",
              "                <dd><code>testApp</code></dd>\n",
              "            </dl>\n",
              "        </div>\n",
              "        \n",
              "            </div>\n",
              "        "
            ]
          },
          "metadata": {},
          "execution_count": 9
        }
      ]
    },
    {
      "cell_type": "code",
      "source": [
        "df1 = spark.read.csv(\"/content/drive/MyDrive/ColabTest/data/googleplaystore.csv\",inferSchema=True, header=True)\n",
        "df2 = spark.read.csv(\"/content/drive/MyDrive/ColabTest/data/googleplaystore_user_reviews.csv\",inferSchema=True, header=True)\n",
        "df3 = spark.read.csv(\"/content/drive/MyDrive/ColabTest/data/ab_data.csv\",inferSchema=True, header=True)"
      ],
      "metadata": {
        "id": "IcjmMNHsN174"
      },
      "execution_count": 143,
      "outputs": []
    },
    {
      "cell_type": "code",
      "source": [
        "print(df1.count())\n",
        "df1.printSchema()"
      ],
      "metadata": {
        "colab": {
          "base_uri": "https://localhost:8080/"
        },
        "id": "n9bfvgMUN8QC",
        "outputId": "6d6b1069-bd0a-4c4f-c383-06f80c34d9e5"
      },
      "execution_count": 144,
      "outputs": [
        {
          "output_type": "stream",
          "name": "stdout",
          "text": [
            "10841\n",
            "root\n",
            " |-- App: string (nullable = true)\n",
            " |-- Category: string (nullable = true)\n",
            " |-- Rating: string (nullable = true)\n",
            " |-- Reviews: string (nullable = true)\n",
            " |-- Size: string (nullable = true)\n",
            " |-- Installs: string (nullable = true)\n",
            " |-- Type: string (nullable = true)\n",
            " |-- Price: string (nullable = true)\n",
            " |-- Content Rating: string (nullable = true)\n",
            " |-- Genres: string (nullable = true)\n",
            " |-- Last Updated: string (nullable = true)\n",
            " |-- Current Ver: string (nullable = true)\n",
            " |-- Android Ver: string (nullable = true)\n",
            "\n"
          ]
        }
      ]
    },
    {
      "cell_type": "code",
      "source": [
        "print(df2.count())\n",
        "df2.printSchema()"
      ],
      "metadata": {
        "colab": {
          "base_uri": "https://localhost:8080/"
        },
        "id": "PZ921iLdOWU_",
        "outputId": "35fa898d-3292-4b8e-8478-f77463cdb95b"
      },
      "execution_count": 145,
      "outputs": [
        {
          "output_type": "stream",
          "name": "stdout",
          "text": [
            "64295\n",
            "root\n",
            " |-- App: string (nullable = true)\n",
            " |-- Translated_Review: string (nullable = true)\n",
            " |-- Sentiment: string (nullable = true)\n",
            " |-- Sentiment_Polarity: string (nullable = true)\n",
            " |-- Sentiment_Subjectivity: string (nullable = true)\n",
            "\n"
          ]
        }
      ]
    },
    {
      "cell_type": "code",
      "source": [
        "print(df3.count())\n",
        "df3.printSchema()"
      ],
      "metadata": {
        "colab": {
          "base_uri": "https://localhost:8080/"
        },
        "id": "5eIJ1qjlOe25",
        "outputId": "019cbf7b-9651-4402-8dee-bb59b49d4287"
      },
      "execution_count": 146,
      "outputs": [
        {
          "output_type": "stream",
          "name": "stdout",
          "text": [
            "135920\n",
            "root\n",
            " |-- user_id: integer (nullable = true)\n",
            " |-- timestamp: timestamp (nullable = true)\n",
            " |-- group: string (nullable = true)\n",
            " |-- landing_page: string (nullable = true)\n",
            " |-- converted: integer (nullable = true)\n",
            "\n"
          ]
        }
      ]
    },
    {
      "cell_type": "code",
      "source": [
        "df1.show(5)\n",
        "# df1.orderBy(['Price'], ascending = [True]).show()"
      ],
      "metadata": {
        "colab": {
          "base_uri": "https://localhost:8080/"
        },
        "id": "xeVdrElLOgb4",
        "outputId": "468772de-3950-45df-e32b-6304ae2fd267"
      },
      "execution_count": 151,
      "outputs": [
        {
          "output_type": "stream",
          "name": "stdout",
          "text": [
            "+--------------------+--------------+------+-------+----+-----------+----+-----+--------------+--------------------+----------------+------------------+------------+\n",
            "|                 App|      Category|Rating|Reviews|Size|   Installs|Type|Price|Content Rating|              Genres|    Last Updated|       Current Ver| Android Ver|\n",
            "+--------------------+--------------+------+-------+----+-----------+----+-----+--------------+--------------------+----------------+------------------+------------+\n",
            "|Photo Editor & Ca...|ART_AND_DESIGN|   4.1|    159| 19M|    10,000+|Free|    0|      Everyone|        Art & Design| January 7, 2018|             1.0.0|4.0.3 and up|\n",
            "| Coloring book moana|ART_AND_DESIGN|   3.9|    967| 14M|   500,000+|Free|    0|      Everyone|Art & Design;Pret...|January 15, 2018|             2.0.0|4.0.3 and up|\n",
            "|U Launcher Lite –...|ART_AND_DESIGN|   4.7|  87510|8.7M| 5,000,000+|Free|    0|      Everyone|        Art & Design|  August 1, 2018|             1.2.4|4.0.3 and up|\n",
            "|Sketch - Draw & P...|ART_AND_DESIGN|   4.5| 215644| 25M|50,000,000+|Free|    0|          Teen|        Art & Design|    June 8, 2018|Varies with device|  4.2 and up|\n",
            "|Pixel Draw - Numb...|ART_AND_DESIGN|   4.3|    967|2.8M|   100,000+|Free|    0|      Everyone|Art & Design;Crea...|   June 20, 2018|               1.1|  4.4 and up|\n",
            "+--------------------+--------------+------+-------+----+-----------+----+-----+--------------+--------------------+----------------+------------------+------------+\n",
            "only showing top 5 rows\n",
            "\n"
          ]
        }
      ]
    },
    {
      "cell_type": "code",
      "source": [
        "df2.show(1)"
      ],
      "metadata": {
        "colab": {
          "base_uri": "https://localhost:8080/"
        },
        "id": "MHiAxGb0Pxwf",
        "outputId": "4ed327a1-c076-4109-9738-72aef95aae0b"
      },
      "execution_count": 152,
      "outputs": [
        {
          "output_type": "stream",
          "name": "stdout",
          "text": [
            "+--------------------+--------------------+--------------------+------------------+----------------------+\n",
            "|                 App|   Translated_Review|           Sentiment|Sentiment_Polarity|Sentiment_Subjectivity|\n",
            "+--------------------+--------------------+--------------------+------------------+----------------------+\n",
            "|10 Best Foods for...|\"I like eat delic...| also \"\"Best Befo...|          Positive|                   1.0|\n",
            "+--------------------+--------------------+--------------------+------------------+----------------------+\n",
            "only showing top 1 row\n",
            "\n"
          ]
        }
      ]
    },
    {
      "cell_type": "code",
      "source": [
        "df3.show(1)"
      ],
      "metadata": {
        "colab": {
          "base_uri": "https://localhost:8080/"
        },
        "id": "8l_oUctCPzHJ",
        "outputId": "1dc8d612-aa7a-4946-d396-2b3a4751aa3e"
      },
      "execution_count": 153,
      "outputs": [
        {
          "output_type": "stream",
          "name": "stdout",
          "text": [
            "+-------+--------------------+-------+------------+---------+\n",
            "|user_id|           timestamp|  group|landing_page|converted|\n",
            "+-------+--------------------+-------+------------+---------+\n",
            "| 851104|2017-01-21 22:11:...|control|    old_page|        0|\n",
            "+-------+--------------------+-------+------------+---------+\n",
            "only showing top 1 row\n",
            "\n"
          ]
        }
      ]
    },
    {
      "cell_type": "code",
      "source": [
        "df1 = df1.drop(\"Size\", \"Content Rating\", \"Last Updated\", \"Android Ver\", \"Current Ver\")"
      ],
      "metadata": {
        "id": "-4NaEQQmP0Uf"
      },
      "execution_count": 154,
      "outputs": []
    },
    {
      "cell_type": "code",
      "source": [
        "df1.show(1)"
      ],
      "metadata": {
        "colab": {
          "base_uri": "https://localhost:8080/"
        },
        "id": "-qEmHKj9QskH",
        "outputId": "24e9fb66-7b51-47df-a095-85e1a700c680"
      },
      "execution_count": 155,
      "outputs": [
        {
          "output_type": "stream",
          "name": "stdout",
          "text": [
            "+--------------------+--------------+------+-------+--------+----+-----+------------+\n",
            "|                 App|      Category|Rating|Reviews|Installs|Type|Price|      Genres|\n",
            "+--------------------+--------------+------+-------+--------+----+-----+------------+\n",
            "|Photo Editor & Ca...|ART_AND_DESIGN|   4.1|    159| 10,000+|Free|    0|Art & Design|\n",
            "+--------------------+--------------+------+-------+--------+----+-----+------------+\n",
            "only showing top 1 row\n",
            "\n"
          ]
        }
      ]
    },
    {
      "cell_type": "code",
      "source": [
        "df1.printSchema()"
      ],
      "metadata": {
        "colab": {
          "base_uri": "https://localhost:8080/"
        },
        "id": "LUyilJN8QxHn",
        "outputId": "7314340e-7141-4862-9cbc-e8ecb7bfffee"
      },
      "execution_count": 156,
      "outputs": [
        {
          "output_type": "stream",
          "name": "stdout",
          "text": [
            "root\n",
            " |-- App: string (nullable = true)\n",
            " |-- Category: string (nullable = true)\n",
            " |-- Rating: string (nullable = true)\n",
            " |-- Reviews: string (nullable = true)\n",
            " |-- Installs: string (nullable = true)\n",
            " |-- Type: string (nullable = true)\n",
            " |-- Price: string (nullable = true)\n",
            " |-- Genres: string (nullable = true)\n",
            "\n"
          ]
        }
      ]
    },
    {
      "cell_type": "code",
      "source": [
        "@udf\n",
        "def replaceChar(ch1):\n",
        "  return ch1.replace(\"+\",\"\").replace(\",\",\"\").replace(\"$\",\"\")\n"
      ],
      "metadata": {
        "id": "eNlOG6oWViMG"
      },
      "execution_count": 157,
      "outputs": []
    },
    {
      "cell_type": "code",
      "source": [
        "df1 = df1.withColumn(\"Installs\",replaceChar(col(\"Installs\"))).withColumn(\"Price\",replaceChar(col(\"Price\")))"
      ],
      "metadata": {
        "id": "DC0dY2hmU9fF"
      },
      "execution_count": 158,
      "outputs": []
    },
    {
      "cell_type": "code",
      "source": [
        "## Data cleaning"
      ],
      "metadata": {
        "id": "89eEK1QEQ723"
      },
      "execution_count": 159,
      "outputs": []
    },
    {
      "cell_type": "code",
      "source": [
        "df1 = df1.withColumn(\"Rating\", col(\"Rating\").cast(FloatType())).withColumn(\"Reviews\", col(\"reviews\").cast(FloatType())).withColumn(\"Installs\", col(\"Installs\").cast(FloatType())).withColumn(\"Price\", col(\"Price\").cast(FloatType()))"
      ],
      "metadata": {
        "id": "IFgUJiXQQ_if"
      },
      "execution_count": 160,
      "outputs": []
    },
    {
      "cell_type": "code",
      "source": [
        "df1.printSchema()"
      ],
      "metadata": {
        "colab": {
          "base_uri": "https://localhost:8080/"
        },
        "id": "fy3oKxG9R3Ie",
        "outputId": "b852d405-49ce-4eef-81e0-c79b835b39d3"
      },
      "execution_count": 161,
      "outputs": [
        {
          "output_type": "stream",
          "name": "stdout",
          "text": [
            "root\n",
            " |-- App: string (nullable = true)\n",
            " |-- Category: string (nullable = true)\n",
            " |-- Rating: float (nullable = true)\n",
            " |-- Reviews: float (nullable = true)\n",
            " |-- Installs: float (nullable = true)\n",
            " |-- Type: string (nullable = true)\n",
            " |-- Price: float (nullable = true)\n",
            " |-- Genres: string (nullable = true)\n",
            "\n"
          ]
        }
      ]
    },
    {
      "cell_type": "code",
      "source": [
        "df1.show(2)"
      ],
      "metadata": {
        "colab": {
          "base_uri": "https://localhost:8080/"
        },
        "id": "2TDBNpQiSbqP",
        "outputId": "d1f97654-db41-4140-fae0-67fabe6062b3"
      },
      "execution_count": 162,
      "outputs": [
        {
          "output_type": "stream",
          "name": "stdout",
          "text": [
            "+--------------------+--------------+------+-------+--------+----+-----+--------------------+\n",
            "|                 App|      Category|Rating|Reviews|Installs|Type|Price|              Genres|\n",
            "+--------------------+--------------+------+-------+--------+----+-----+--------------------+\n",
            "|Photo Editor & Ca...|ART_AND_DESIGN|   4.1|  159.0| 10000.0|Free|  0.0|        Art & Design|\n",
            "| Coloring book moana|ART_AND_DESIGN|   3.9|  967.0|500000.0|Free|  0.0|Art & Design;Pret...|\n",
            "+--------------------+--------------+------+-------+--------+----+-----+--------------------+\n",
            "only showing top 2 rows\n",
            "\n"
          ]
        }
      ]
    },
    {
      "cell_type": "code",
      "source": [
        "df1_view = df1.createOrReplaceTempView(\"View\")"
      ],
      "metadata": {
        "id": "9YeOVCJwSx__"
      },
      "execution_count": 163,
      "outputs": []
    },
    {
      "cell_type": "code",
      "source": [
        "# Top 10 apps by review\n",
        "spark.sql(\"Select App, sum(Reviews) from view group by 1 order by 2 desc limit 10\").show()"
      ],
      "metadata": {
        "colab": {
          "base_uri": "https://localhost:8080/"
        },
        "id": "pIDzwclhTCWv",
        "outputId": "65701149-d6a6-4e6c-c09e-86407cf80f08"
      },
      "execution_count": 164,
      "outputs": [
        {
          "output_type": "stream",
          "name": "stdout",
          "text": [
            "+--------------------+------------+\n",
            "|                 App|sum(Reviews)|\n",
            "+--------------------+------------+\n",
            "|           Instagram|2.66241988E8|\n",
            "|  WhatsApp Messenger|2.07348296E8|\n",
            "|      Clash of Clans|1.79558784E8|\n",
            "|Messenger – Text ...|1.69932272E8|\n",
            "|      Subway Surfers|1.66331958E8|\n",
            "|    Candy Crush Saga|1.56993136E8|\n",
            "|            Facebook|1.56286512E8|\n",
            "|         8 Ball Pool| 9.9386198E7|\n",
            "|        Clash Royale|   9.25303E7|\n",
            "|            Snapchat|  6.804501E7|\n",
            "+--------------------+------------+\n",
            "\n"
          ]
        }
      ]
    },
    {
      "cell_type": "code",
      "source": [
        "# Top 10 apps by Installs all\n",
        "spark.sql(\"Select App, sum(Installs) from view group by 1 order by 2 desc limit 10\").show()"
      ],
      "metadata": {
        "colab": {
          "base_uri": "https://localhost:8080/"
        },
        "id": "KoigkCYaTIHn",
        "outputId": "bb3e64b0-6a14-4838-c62b-28176569cee4"
      },
      "execution_count": 165,
      "outputs": [
        {
          "output_type": "stream",
          "name": "stdout",
          "text": [
            "+--------------------+-------------+\n",
            "|                 App|sum(Installs)|\n",
            "+--------------------+-------------+\n",
            "|      Subway Surfers|        6.0E9|\n",
            "|           Instagram|        4.0E9|\n",
            "|            Hangouts|        4.0E9|\n",
            "|        Google Drive|        4.0E9|\n",
            "|         Google News|        4.0E9|\n",
            "|       Google Photos|        4.0E9|\n",
            "|    Candy Crush Saga|        3.5E9|\n",
            "|  WhatsApp Messenger|        3.0E9|\n",
            "|Messenger – Text ...|        3.0E9|\n",
            "|Google Chrome: Fa...|        3.0E9|\n",
            "+--------------------+-------------+\n",
            "\n"
          ]
        }
      ]
    },
    {
      "cell_type": "code",
      "source": [
        "# Top 10 apps by Installs free\n",
        "spark.sql(\"Select App, sum(Installs) from view where Type='Free' group by 1 order by 2 desc limit 10\").show()"
      ],
      "metadata": {
        "colab": {
          "base_uri": "https://localhost:8080/"
        },
        "id": "dgMVzdpabAeM",
        "outputId": "19a85787-0439-4950-cfe8-77fca0f17e08"
      },
      "execution_count": 173,
      "outputs": [
        {
          "output_type": "stream",
          "name": "stdout",
          "text": [
            "+--------------------+-------------+\n",
            "|                 App|sum(Installs)|\n",
            "+--------------------+-------------+\n",
            "|      Subway Surfers|        6.0E9|\n",
            "|           Instagram|        4.0E9|\n",
            "|            Hangouts|        4.0E9|\n",
            "|        Google Drive|        4.0E9|\n",
            "|         Google News|        4.0E9|\n",
            "|       Google Photos|        4.0E9|\n",
            "|    Candy Crush Saga|        3.5E9|\n",
            "|  WhatsApp Messenger|        3.0E9|\n",
            "|Messenger – Text ...|        3.0E9|\n",
            "|Google Chrome: Fa...|        3.0E9|\n",
            "+--------------------+-------------+\n",
            "\n"
          ]
        }
      ]
    },
    {
      "cell_type": "code",
      "source": [
        "# Top 10 apps by Installs paid\n",
        "spark.sql(\"Select App, sum(Installs) from view where Type='Paid' group by 1 order by 2 desc limit 10\").show()"
      ],
      "metadata": {
        "colab": {
          "base_uri": "https://localhost:8080/"
        },
        "id": "fX2fNdjYbN7T",
        "outputId": "88640109-8c86-418a-bb63-253387b1adcb"
      },
      "execution_count": 174,
      "outputs": [
        {
          "output_type": "stream",
          "name": "stdout",
          "text": [
            "+--------------------+-------------+\n",
            "|                 App|sum(Installs)|\n",
            "+--------------------+-------------+\n",
            "|           Minecraft|        2.0E7|\n",
            "|       Hitman Sniper|        1.0E7|\n",
            "| Facetune - For Free|    3000000.0|\n",
            "|Beautiful Widgets...|    2000000.0|\n",
            "|          HD Widgets|    2000000.0|\n",
            "|              Tasker|    1000000.0|\n",
            "| Fruit Ninja Classic|    1000000.0|\n",
            "|          True Skate|    1000000.0|\n",
            "|   Where's My Water?|    1000000.0|\n",
            "| DraStic DS Emulator|    1000000.0|\n",
            "+--------------------+-------------+\n",
            "\n"
          ]
        }
      ]
    },
    {
      "cell_type": "code",
      "source": [
        "# Top 5 installs by category\n",
        "spark.sql(\"select Category, sum(Installs) from view group by 1  order by 2 desc limit 5\").show()"
      ],
      "metadata": {
        "colab": {
          "base_uri": "https://localhost:8080/"
        },
        "id": "R7EDog61X6tV",
        "outputId": "7d97b479-1641-48e8-ae43-e136bb96dcb5"
      },
      "execution_count": 166,
      "outputs": [
        {
          "output_type": "stream",
          "name": "stdout",
          "text": [
            "+-------------+---------------+\n",
            "|     Category|  sum(Installs)|\n",
            "+-------------+---------------+\n",
            "|         GAME|3.5086024415E10|\n",
            "|COMMUNICATION|3.2647276251E10|\n",
            "| PRODUCTIVITY|1.4176091369E10|\n",
            "|       SOCIAL|1.4069867902E10|\n",
            "|        TOOLS|1.1452771915E10|\n",
            "+-------------+---------------+\n",
            "\n"
          ]
        }
      ]
    },
    {
      "cell_type": "code",
      "source": [
        "# Top paid apps\n",
        "spark.sql(\"select App, avg(Price) from view group by 1  order by 2 desc limit 5\").show(truncate=False)"
      ],
      "metadata": {
        "colab": {
          "base_uri": "https://localhost:8080/"
        },
        "id": "MuyE3E56Ytft",
        "outputId": "0fc3a581-c582-488a-9a14-cfcde8b4da27"
      },
      "execution_count": 170,
      "outputs": [
        {
          "output_type": "stream",
          "name": "stdout",
          "text": [
            "+------------------------+----------------+\n",
            "|App                     |avg(Price)      |\n",
            "+------------------------+----------------+\n",
            "|I'm Rich - Trump Edition|400.0           |\n",
            "|I Am Rich Premium       |399.989990234375|\n",
            "|I am Rich               |399.989990234375|\n",
            "|most expensive app (H)  |399.989990234375|\n",
            "|I am Rich Plus          |399.989990234375|\n",
            "+------------------------+----------------+\n",
            "\n"
          ]
        }
      ]
    },
    {
      "cell_type": "code",
      "source": [
        "from os import truncate\n",
        "df1.filter(df1[\"App\"]==\"Subway Surfers\").show(truncate=False)"
      ],
      "metadata": {
        "colab": {
          "base_uri": "https://localhost:8080/"
        },
        "id": "nAN8myT_UYEP",
        "outputId": "fe40a9f5-7593-4706-a091-ae46487c98b8"
      },
      "execution_count": 168,
      "outputs": [
        {
          "output_type": "stream",
          "name": "stdout",
          "text": [
            "+--------------+--------+------+-----------+--------+----+-----+------+\n",
            "|App           |Category|Rating|Reviews    |Installs|Type|Price|Genres|\n",
            "+--------------+--------+------+-----------+--------+----+-----+------+\n",
            "|Subway Surfers|GAME    |4.5   |2.7722264E7|1.0E9   |Free|0.0  |Arcade|\n",
            "|Subway Surfers|GAME    |4.5   |2.7723192E7|1.0E9   |Free|0.0  |Arcade|\n",
            "|Subway Surfers|GAME    |4.5   |2.7724094E7|1.0E9   |Free|0.0  |Arcade|\n",
            "|Subway Surfers|GAME    |4.5   |2.7725352E7|1.0E9   |Free|0.0  |Arcade|\n",
            "|Subway Surfers|GAME    |4.5   |2.7725352E7|1.0E9   |Free|0.0  |Arcade|\n",
            "|Subway Surfers|GAME    |4.5   |2.7711704E7|1.0E9   |Free|0.0  |Arcade|\n",
            "+--------------+--------+------+-----------+--------+----+-----+------+\n",
            "\n"
          ]
        }
      ]
    },
    {
      "cell_type": "code",
      "source": [
        "df1.select(\"Installs\").describe().show()"
      ],
      "metadata": {
        "colab": {
          "base_uri": "https://localhost:8080/"
        },
        "id": "b0iQqJgpW5rX",
        "outputId": "794ca9d5-1607-4566-a79a-02c5d8dd39aa"
      },
      "execution_count": 169,
      "outputs": [
        {
          "output_type": "stream",
          "name": "stdout",
          "text": [
            "+-------+-------------------+\n",
            "|summary|           Installs|\n",
            "+-------+-------------------+\n",
            "|  count|              10840|\n",
            "|   mean|1.546378537782288E7|\n",
            "| stddev|8.502944796373627E7|\n",
            "|    min|                0.0|\n",
            "|    max|              1.0E9|\n",
            "+-------+-------------------+\n",
            "\n"
          ]
        }
      ]
    },
    {
      "cell_type": "code",
      "source": [],
      "metadata": {
        "id": "57QWXeSZXjgn"
      },
      "execution_count": null,
      "outputs": []
    }
  ]
}